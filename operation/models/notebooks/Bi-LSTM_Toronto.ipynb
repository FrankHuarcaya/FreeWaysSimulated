{
  "cells": [
    {
      "cell_type": "code",
      "execution_count": 1,
      "metadata": {
        "id": "-tGZzDeK19yp"
      },
      "outputs": [],
      "source": [
        "import numpy as np\n",
        "import pandas as pd\n",
        "import matplotlib.pyplot as plt\n",
        "from tensorflow.keras.models import Sequential\n",
        "from tensorflow.keras.layers import LSTM, Dense, Bidirectional\n",
        "from sklearn.model_selection import train_test_split\n",
        "from tensorflow import keras"
      ]
    },
    {
      "cell_type": "code",
      "execution_count": 2,
      "metadata": {
        "colab": {
          "base_uri": "https://localhost:8080/",
          "height": 516
        },
        "id": "zyaOHofa2JYm",
        "outputId": "7415186f-194d-419d-8db8-ba660f2d887a"
      },
      "outputs": [
        {
          "data": {
            "text/html": [
              "<div>\n",
              "<style scoped>\n",
              "    .dataframe tbody tr th:only-of-type {\n",
              "        vertical-align: middle;\n",
              "    }\n",
              "\n",
              "    .dataframe tbody tr th {\n",
              "        vertical-align: top;\n",
              "    }\n",
              "\n",
              "    .dataframe thead th {\n",
              "        text-align: right;\n",
              "    }\n",
              "</style>\n",
              "<table border=\"1\" class=\"dataframe\">\n",
              "  <thead>\n",
              "    <tr style=\"text-align: right;\">\n",
              "      <th></th>\n",
              "      <th>_id</th>\n",
              "      <th>count_id</th>\n",
              "      <th>count_date</th>\n",
              "      <th>location_id</th>\n",
              "      <th>location</th>\n",
              "      <th>lng</th>\n",
              "      <th>lat</th>\n",
              "      <th>centreline_type</th>\n",
              "      <th>centreline_id</th>\n",
              "      <th>px</th>\n",
              "      <th>...</th>\n",
              "      <th>ex_peds</th>\n",
              "      <th>wx_peds</th>\n",
              "      <th>nx_bike</th>\n",
              "      <th>sx_bike</th>\n",
              "      <th>ex_bike</th>\n",
              "      <th>wx_bike</th>\n",
              "      <th>nx_other</th>\n",
              "      <th>sx_other</th>\n",
              "      <th>ex_other</th>\n",
              "      <th>wx_other</th>\n",
              "    </tr>\n",
              "  </thead>\n",
              "  <tbody>\n",
              "    <tr>\n",
              "      <th>0</th>\n",
              "      <td>1</td>\n",
              "      <td>39337</td>\n",
              "      <td>2020-01-08</td>\n",
              "      <td>13060</td>\n",
              "      <td>BROADVIEW AVE AT ERINDALE AVE</td>\n",
              "      <td>-79.358652</td>\n",
              "      <td>43.677521</td>\n",
              "      <td>2</td>\n",
              "      <td>13462138</td>\n",
              "      <td>NaN</td>\n",
              "      <td>...</td>\n",
              "      <td>60</td>\n",
              "      <td>0</td>\n",
              "      <td>4</td>\n",
              "      <td>0</td>\n",
              "      <td>0</td>\n",
              "      <td>0</td>\n",
              "      <td>0</td>\n",
              "      <td>0</td>\n",
              "      <td>0</td>\n",
              "      <td>0</td>\n",
              "    </tr>\n",
              "    <tr>\n",
              "      <th>1</th>\n",
              "      <td>2</td>\n",
              "      <td>39337</td>\n",
              "      <td>2020-01-08</td>\n",
              "      <td>13060</td>\n",
              "      <td>BROADVIEW AVE AT ERINDALE AVE</td>\n",
              "      <td>-79.358652</td>\n",
              "      <td>43.677521</td>\n",
              "      <td>2</td>\n",
              "      <td>13462138</td>\n",
              "      <td>NaN</td>\n",
              "      <td>...</td>\n",
              "      <td>54</td>\n",
              "      <td>0</td>\n",
              "      <td>3</td>\n",
              "      <td>0</td>\n",
              "      <td>0</td>\n",
              "      <td>0</td>\n",
              "      <td>0</td>\n",
              "      <td>0</td>\n",
              "      <td>0</td>\n",
              "      <td>0</td>\n",
              "    </tr>\n",
              "    <tr>\n",
              "      <th>2</th>\n",
              "      <td>3</td>\n",
              "      <td>39337</td>\n",
              "      <td>2020-01-08</td>\n",
              "      <td>13060</td>\n",
              "      <td>BROADVIEW AVE AT ERINDALE AVE</td>\n",
              "      <td>-79.358652</td>\n",
              "      <td>43.677521</td>\n",
              "      <td>2</td>\n",
              "      <td>13462138</td>\n",
              "      <td>NaN</td>\n",
              "      <td>...</td>\n",
              "      <td>86</td>\n",
              "      <td>0</td>\n",
              "      <td>2</td>\n",
              "      <td>0</td>\n",
              "      <td>0</td>\n",
              "      <td>0</td>\n",
              "      <td>0</td>\n",
              "      <td>0</td>\n",
              "      <td>0</td>\n",
              "      <td>0</td>\n",
              "    </tr>\n",
              "    <tr>\n",
              "      <th>3</th>\n",
              "      <td>4</td>\n",
              "      <td>39337</td>\n",
              "      <td>2020-01-08</td>\n",
              "      <td>13060</td>\n",
              "      <td>BROADVIEW AVE AT ERINDALE AVE</td>\n",
              "      <td>-79.358652</td>\n",
              "      <td>43.677521</td>\n",
              "      <td>2</td>\n",
              "      <td>13462138</td>\n",
              "      <td>NaN</td>\n",
              "      <td>...</td>\n",
              "      <td>105</td>\n",
              "      <td>0</td>\n",
              "      <td>2</td>\n",
              "      <td>1</td>\n",
              "      <td>0</td>\n",
              "      <td>0</td>\n",
              "      <td>0</td>\n",
              "      <td>0</td>\n",
              "      <td>0</td>\n",
              "      <td>0</td>\n",
              "    </tr>\n",
              "    <tr>\n",
              "      <th>4</th>\n",
              "      <td>5</td>\n",
              "      <td>39337</td>\n",
              "      <td>2020-01-08</td>\n",
              "      <td>13060</td>\n",
              "      <td>BROADVIEW AVE AT ERINDALE AVE</td>\n",
              "      <td>-79.358652</td>\n",
              "      <td>43.677521</td>\n",
              "      <td>2</td>\n",
              "      <td>13462138</td>\n",
              "      <td>NaN</td>\n",
              "      <td>...</td>\n",
              "      <td>104</td>\n",
              "      <td>0</td>\n",
              "      <td>1</td>\n",
              "      <td>2</td>\n",
              "      <td>0</td>\n",
              "      <td>0</td>\n",
              "      <td>0</td>\n",
              "      <td>0</td>\n",
              "      <td>0</td>\n",
              "      <td>0</td>\n",
              "    </tr>\n",
              "  </tbody>\n",
              "</table>\n",
              "<p>5 rows × 60 columns</p>\n",
              "</div>"
            ],
            "text/plain": [
              "   _id  count_id  count_date  location_id                       location  \\\n",
              "0    1     39337  2020-01-08        13060  BROADVIEW AVE AT ERINDALE AVE   \n",
              "1    2     39337  2020-01-08        13060  BROADVIEW AVE AT ERINDALE AVE   \n",
              "2    3     39337  2020-01-08        13060  BROADVIEW AVE AT ERINDALE AVE   \n",
              "3    4     39337  2020-01-08        13060  BROADVIEW AVE AT ERINDALE AVE   \n",
              "4    5     39337  2020-01-08        13060  BROADVIEW AVE AT ERINDALE AVE   \n",
              "\n",
              "         lng        lat  centreline_type  centreline_id  px  ... ex_peds  \\\n",
              "0 -79.358652  43.677521                2       13462138 NaN  ...      60   \n",
              "1 -79.358652  43.677521                2       13462138 NaN  ...      54   \n",
              "2 -79.358652  43.677521                2       13462138 NaN  ...      86   \n",
              "3 -79.358652  43.677521                2       13462138 NaN  ...     105   \n",
              "4 -79.358652  43.677521                2       13462138 NaN  ...     104   \n",
              "\n",
              "  wx_peds  nx_bike  sx_bike  ex_bike  wx_bike  nx_other  sx_other  ex_other  \\\n",
              "0       0        4        0        0        0         0         0         0   \n",
              "1       0        3        0        0        0         0         0         0   \n",
              "2       0        2        0        0        0         0         0         0   \n",
              "3       0        2        1        0        0         0         0         0   \n",
              "4       0        1        2        0        0         0         0         0   \n",
              "\n",
              "   wx_other  \n",
              "0         0  \n",
              "1         0  \n",
              "2         0  \n",
              "3         0  \n",
              "4         0  \n",
              "\n",
              "[5 rows x 60 columns]"
            ]
          },
          "execution_count": 2,
          "metadata": {},
          "output_type": "execute_result"
        }
      ],
      "source": [
        "df = pd.read_csv('C:\\\\Users\\\\FRANK\\\\Documents\\\\Github\\\\FreeWaysSimulated\\\\operation\\\\models\\\\csvs\\\\raw-data-2020-2029.csv')\n",
        "df.head()\n"
      ]
    },
    {
      "cell_type": "code",
      "execution_count": 3,
      "metadata": {
        "colab": {
          "base_uri": "https://localhost:8080/"
        },
        "id": "lGtbyl7t2LzL",
        "outputId": "c3bac98d-eede-47d6-be8d-496657e567a2"
      },
      "outputs": [
        {
          "data": {
            "text/plain": [
              "(768, 60)"
            ]
          },
          "execution_count": 3,
          "metadata": {},
          "output_type": "execute_result"
        }
      ],
      "source": [
        "# seleccionar cualquier interseccion dentro del dataset\n",
        "intersection = df[df['location'] == 'YONGE ST AT CHAPLIN CRES & DAVISVILLE AVE (PX 47)']\n",
        "intersection.shape"
      ]
    },
    {
      "cell_type": "code",
      "execution_count": 4,
      "metadata": {
        "colab": {
          "base_uri": "https://localhost:8080/",
          "height": 349
        },
        "id": "beb34VXb2Oe1",
        "outputId": "21f9f1cd-ae28-4b2d-c269-e8a1f6aa1162"
      },
      "outputs": [
        {
          "data": {
            "text/html": [
              "<div>\n",
              "<style scoped>\n",
              "    .dataframe tbody tr th:only-of-type {\n",
              "        vertical-align: middle;\n",
              "    }\n",
              "\n",
              "    .dataframe tbody tr th {\n",
              "        vertical-align: top;\n",
              "    }\n",
              "\n",
              "    .dataframe thead th {\n",
              "        text-align: right;\n",
              "    }\n",
              "</style>\n",
              "<table border=\"1\" class=\"dataframe\">\n",
              "  <thead>\n",
              "    <tr style=\"text-align: right;\">\n",
              "      <th></th>\n",
              "      <th>_id</th>\n",
              "      <th>count_id</th>\n",
              "      <th>location_id</th>\n",
              "      <th>lng</th>\n",
              "      <th>lat</th>\n",
              "      <th>centreline_type</th>\n",
              "      <th>centreline_id</th>\n",
              "      <th>px</th>\n",
              "      <th>sb_cars_r</th>\n",
              "      <th>sb_cars_t</th>\n",
              "      <th>...</th>\n",
              "      <th>ex_peds</th>\n",
              "      <th>wx_peds</th>\n",
              "      <th>nx_bike</th>\n",
              "      <th>sx_bike</th>\n",
              "      <th>ex_bike</th>\n",
              "      <th>wx_bike</th>\n",
              "      <th>nx_other</th>\n",
              "      <th>sx_other</th>\n",
              "      <th>ex_other</th>\n",
              "      <th>wx_other</th>\n",
              "    </tr>\n",
              "  </thead>\n",
              "  <tbody>\n",
              "    <tr>\n",
              "      <th>count</th>\n",
              "      <td>768.000000</td>\n",
              "      <td>768.000000</td>\n",
              "      <td>768.0</td>\n",
              "      <td>7.680000e+02</td>\n",
              "      <td>768.000000</td>\n",
              "      <td>768.0</td>\n",
              "      <td>768.0</td>\n",
              "      <td>768.0</td>\n",
              "      <td>768.000000</td>\n",
              "      <td>768.000000</td>\n",
              "      <td>...</td>\n",
              "      <td>768.000000</td>\n",
              "      <td>768.000000</td>\n",
              "      <td>768.00000</td>\n",
              "      <td>768.000000</td>\n",
              "      <td>768.000000</td>\n",
              "      <td>768.000000</td>\n",
              "      <td>768.0</td>\n",
              "      <td>768.0</td>\n",
              "      <td>768.0</td>\n",
              "      <td>768.0</td>\n",
              "    </tr>\n",
              "    <tr>\n",
              "      <th>mean</th>\n",
              "      <td>78519.166667</td>\n",
              "      <td>44587.083333</td>\n",
              "      <td>4654.0</td>\n",
              "      <td>-7.939664e+01</td>\n",
              "      <td>43.698301</td>\n",
              "      <td>2.0</td>\n",
              "      <td>13458407.0</td>\n",
              "      <td>47.0</td>\n",
              "      <td>11.527344</td>\n",
              "      <td>98.083333</td>\n",
              "      <td>...</td>\n",
              "      <td>93.933594</td>\n",
              "      <td>67.658854</td>\n",
              "      <td>4.52474</td>\n",
              "      <td>3.709635</td>\n",
              "      <td>0.677083</td>\n",
              "      <td>0.973958</td>\n",
              "      <td>0.0</td>\n",
              "      <td>0.0</td>\n",
              "      <td>0.0</td>\n",
              "      <td>0.0</td>\n",
              "    </tr>\n",
              "    <tr>\n",
              "      <th>std</th>\n",
              "      <td>37173.950469</td>\n",
              "      <td>2329.030232</td>\n",
              "      <td>0.0</td>\n",
              "      <td>1.422012e-14</td>\n",
              "      <td>0.000000</td>\n",
              "      <td>0.0</td>\n",
              "      <td>0.0</td>\n",
              "      <td>0.0</td>\n",
              "      <td>5.182891</td>\n",
              "      <td>23.158900</td>\n",
              "      <td>...</td>\n",
              "      <td>38.343123</td>\n",
              "      <td>26.949337</td>\n",
              "      <td>3.74471</td>\n",
              "      <td>3.851928</td>\n",
              "      <td>0.979528</td>\n",
              "      <td>1.278383</td>\n",
              "      <td>0.0</td>\n",
              "      <td>0.0</td>\n",
              "      <td>0.0</td>\n",
              "      <td>0.0</td>\n",
              "    </tr>\n",
              "    <tr>\n",
              "      <th>min</th>\n",
              "      <td>32772.000000</td>\n",
              "      <td>41715.000000</td>\n",
              "      <td>4654.0</td>\n",
              "      <td>-7.939664e+01</td>\n",
              "      <td>43.698301</td>\n",
              "      <td>2.0</td>\n",
              "      <td>13458407.0</td>\n",
              "      <td>47.0</td>\n",
              "      <td>0.000000</td>\n",
              "      <td>34.000000</td>\n",
              "      <td>...</td>\n",
              "      <td>9.000000</td>\n",
              "      <td>6.000000</td>\n",
              "      <td>0.00000</td>\n",
              "      <td>0.000000</td>\n",
              "      <td>0.000000</td>\n",
              "      <td>0.000000</td>\n",
              "      <td>0.0</td>\n",
              "      <td>0.0</td>\n",
              "      <td>0.0</td>\n",
              "      <td>0.0</td>\n",
              "    </tr>\n",
              "    <tr>\n",
              "      <th>25%</th>\n",
              "      <td>43507.750000</td>\n",
              "      <td>42396.500000</td>\n",
              "      <td>4654.0</td>\n",
              "      <td>-7.939664e+01</td>\n",
              "      <td>43.698301</td>\n",
              "      <td>2.0</td>\n",
              "      <td>13458407.0</td>\n",
              "      <td>47.0</td>\n",
              "      <td>8.000000</td>\n",
              "      <td>85.000000</td>\n",
              "      <td>...</td>\n",
              "      <td>66.000000</td>\n",
              "      <td>47.000000</td>\n",
              "      <td>2.00000</td>\n",
              "      <td>1.000000</td>\n",
              "      <td>0.000000</td>\n",
              "      <td>0.000000</td>\n",
              "      <td>0.0</td>\n",
              "      <td>0.0</td>\n",
              "      <td>0.0</td>\n",
              "      <td>0.0</td>\n",
              "    </tr>\n",
              "    <tr>\n",
              "      <th>50%</th>\n",
              "      <td>89923.500000</td>\n",
              "      <td>45304.000000</td>\n",
              "      <td>4654.0</td>\n",
              "      <td>-7.939664e+01</td>\n",
              "      <td>43.698301</td>\n",
              "      <td>2.0</td>\n",
              "      <td>13458407.0</td>\n",
              "      <td>47.0</td>\n",
              "      <td>11.000000</td>\n",
              "      <td>96.000000</td>\n",
              "      <td>...</td>\n",
              "      <td>93.000000</td>\n",
              "      <td>63.000000</td>\n",
              "      <td>4.00000</td>\n",
              "      <td>2.500000</td>\n",
              "      <td>0.000000</td>\n",
              "      <td>1.000000</td>\n",
              "      <td>0.0</td>\n",
              "      <td>0.0</td>\n",
              "      <td>0.0</td>\n",
              "      <td>0.0</td>\n",
              "    </tr>\n",
              "    <tr>\n",
              "      <th>75%</th>\n",
              "      <td>112099.250000</td>\n",
              "      <td>46691.500000</td>\n",
              "      <td>4654.0</td>\n",
              "      <td>-7.939664e+01</td>\n",
              "      <td>43.698301</td>\n",
              "      <td>2.0</td>\n",
              "      <td>13458407.0</td>\n",
              "      <td>47.0</td>\n",
              "      <td>15.000000</td>\n",
              "      <td>108.000000</td>\n",
              "      <td>...</td>\n",
              "      <td>120.000000</td>\n",
              "      <td>83.000000</td>\n",
              "      <td>6.00000</td>\n",
              "      <td>5.000000</td>\n",
              "      <td>1.000000</td>\n",
              "      <td>2.000000</td>\n",
              "      <td>0.0</td>\n",
              "      <td>0.0</td>\n",
              "      <td>0.0</td>\n",
              "      <td>0.0</td>\n",
              "    </tr>\n",
              "    <tr>\n",
              "      <th>max</th>\n",
              "      <td>150319.000000</td>\n",
              "      <td>49079.000000</td>\n",
              "      <td>4654.0</td>\n",
              "      <td>-7.939664e+01</td>\n",
              "      <td>43.698301</td>\n",
              "      <td>2.0</td>\n",
              "      <td>13458407.0</td>\n",
              "      <td>47.0</td>\n",
              "      <td>31.000000</td>\n",
              "      <td>179.000000</td>\n",
              "      <td>...</td>\n",
              "      <td>235.000000</td>\n",
              "      <td>157.000000</td>\n",
              "      <td>43.00000</td>\n",
              "      <td>25.000000</td>\n",
              "      <td>6.000000</td>\n",
              "      <td>9.000000</td>\n",
              "      <td>0.0</td>\n",
              "      <td>0.0</td>\n",
              "      <td>0.0</td>\n",
              "      <td>0.0</td>\n",
              "    </tr>\n",
              "  </tbody>\n",
              "</table>\n",
              "<p>8 rows × 56 columns</p>\n",
              "</div>"
            ],
            "text/plain": [
              "                 _id      count_id  location_id           lng         lat  \\\n",
              "count     768.000000    768.000000        768.0  7.680000e+02  768.000000   \n",
              "mean    78519.166667  44587.083333       4654.0 -7.939664e+01   43.698301   \n",
              "std     37173.950469   2329.030232          0.0  1.422012e-14    0.000000   \n",
              "min     32772.000000  41715.000000       4654.0 -7.939664e+01   43.698301   \n",
              "25%     43507.750000  42396.500000       4654.0 -7.939664e+01   43.698301   \n",
              "50%     89923.500000  45304.000000       4654.0 -7.939664e+01   43.698301   \n",
              "75%    112099.250000  46691.500000       4654.0 -7.939664e+01   43.698301   \n",
              "max    150319.000000  49079.000000       4654.0 -7.939664e+01   43.698301   \n",
              "\n",
              "       centreline_type  centreline_id     px   sb_cars_r   sb_cars_t  ...  \\\n",
              "count            768.0          768.0  768.0  768.000000  768.000000  ...   \n",
              "mean               2.0     13458407.0   47.0   11.527344   98.083333  ...   \n",
              "std                0.0            0.0    0.0    5.182891   23.158900  ...   \n",
              "min                2.0     13458407.0   47.0    0.000000   34.000000  ...   \n",
              "25%                2.0     13458407.0   47.0    8.000000   85.000000  ...   \n",
              "50%                2.0     13458407.0   47.0   11.000000   96.000000  ...   \n",
              "75%                2.0     13458407.0   47.0   15.000000  108.000000  ...   \n",
              "max                2.0     13458407.0   47.0   31.000000  179.000000  ...   \n",
              "\n",
              "          ex_peds     wx_peds    nx_bike     sx_bike     ex_bike     wx_bike  \\\n",
              "count  768.000000  768.000000  768.00000  768.000000  768.000000  768.000000   \n",
              "mean    93.933594   67.658854    4.52474    3.709635    0.677083    0.973958   \n",
              "std     38.343123   26.949337    3.74471    3.851928    0.979528    1.278383   \n",
              "min      9.000000    6.000000    0.00000    0.000000    0.000000    0.000000   \n",
              "25%     66.000000   47.000000    2.00000    1.000000    0.000000    0.000000   \n",
              "50%     93.000000   63.000000    4.00000    2.500000    0.000000    1.000000   \n",
              "75%    120.000000   83.000000    6.00000    5.000000    1.000000    2.000000   \n",
              "max    235.000000  157.000000   43.00000   25.000000    6.000000    9.000000   \n",
              "\n",
              "       nx_other  sx_other  ex_other  wx_other  \n",
              "count     768.0     768.0     768.0     768.0  \n",
              "mean        0.0       0.0       0.0       0.0  \n",
              "std         0.0       0.0       0.0       0.0  \n",
              "min         0.0       0.0       0.0       0.0  \n",
              "25%         0.0       0.0       0.0       0.0  \n",
              "50%         0.0       0.0       0.0       0.0  \n",
              "75%         0.0       0.0       0.0       0.0  \n",
              "max         0.0       0.0       0.0       0.0  \n",
              "\n",
              "[8 rows x 56 columns]"
            ]
          },
          "execution_count": 4,
          "metadata": {},
          "output_type": "execute_result"
        }
      ],
      "source": [
        "intersection.describe()"
      ]
    },
    {
      "cell_type": "code",
      "execution_count": 5,
      "metadata": {
        "colab": {
          "base_uri": "https://localhost:8080/"
        },
        "id": "kQFXBSp53gzg",
        "outputId": "4661abb4-ef1e-4617-efdc-af746ce29840"
      },
      "outputs": [
        {
          "data": {
            "text/plain": [
              "Index(['_id', 'count_id', 'count_date', 'location_id', 'location', 'lng',\n",
              "       'lat', 'centreline_type', 'centreline_id', 'px', 'time_start',\n",
              "       'time_end', 'sb_cars_r', 'sb_cars_t', 'sb_cars_l', 'nb_cars_r',\n",
              "       'nb_cars_t', 'nb_cars_l', 'wb_cars_r', 'wb_cars_t', 'wb_cars_l',\n",
              "       'eb_cars_r', 'eb_cars_t', 'eb_cars_l', 'sb_truck_r', 'sb_truck_t',\n",
              "       'sb_truck_l', 'nb_truck_r', 'nb_truck_t', 'nb_truck_l', 'wb_truck_r',\n",
              "       'wb_truck_t', 'wb_truck_l', 'eb_truck_r', 'eb_truck_t', 'eb_truck_l',\n",
              "       'sb_bus_r', 'sb_bus_t', 'sb_bus_l', 'nb_bus_r', 'nb_bus_t', 'nb_bus_l',\n",
              "       'wb_bus_r', 'wb_bus_t', 'wb_bus_l', 'eb_bus_r', 'eb_bus_t', 'eb_bus_l',\n",
              "       'nx_peds', 'sx_peds', 'ex_peds', 'wx_peds', 'nx_bike', 'sx_bike',\n",
              "       'ex_bike', 'wx_bike', 'nx_other', 'sx_other', 'ex_other', 'wx_other'],\n",
              "      dtype='object')"
            ]
          },
          "execution_count": 5,
          "metadata": {},
          "output_type": "execute_result"
        }
      ],
      "source": [
        "intersection.columns"
      ]
    },
    {
      "cell_type": "code",
      "execution_count": 6,
      "metadata": {
        "colab": {
          "base_uri": "https://localhost:8080/",
          "height": 448
        },
        "id": "YLGXKIiA2tZp",
        "outputId": "6f3493bc-c51d-4c97-ac87-fbc9d4c34c93"
      },
      "outputs": [
        {
          "data": {
            "text/plain": [
              "[<matplotlib.lines.Line2D at 0x28b92a3a750>]"
            ]
          },
          "execution_count": 6,
          "metadata": {},
          "output_type": "execute_result"
        },
        {
          "data": {
            "image/png": "[encoded data removed]",
            "text/plain": [
              "<Figure size 640x480 with 1 Axes>"
            ]
          },
          "metadata": {},
          "output_type": "display_data"
        }
      ],
      "source": [
        "plt.plot(intersection['time_start'], intersection['sb_cars_r'])\n",
        "plt.plot(intersection['time_start'], intersection['sb_cars_l'])"
      ]
    },
    {
      "cell_type": "code",
      "execution_count": 7,
      "metadata": {
        "id": "jFu4E0EK2wvb"
      },
      "outputs": [],
      "source": [
        "# seleccionar intersecciones relevantes con conteos de carros \n",
        "updated_intersection = pd.DataFrame()\n",
        "\n",
        "updated_intersection['north_1'] = intersection['nb_cars_r'] + intersection['nb_truck_r'] + intersection['nb_bus_r']\n",
        "updated_intersection['north_2'] = intersection['nb_cars_l'] + intersection['nb_truck_l'] + intersection['nb_bus_l']\n",
        "\n",
        "updated_intersection['south_1'] = intersection['sb_cars_r'] + intersection['sb_truck_r'] + intersection['sb_bus_r']\n",
        "updated_intersection['south_2'] = intersection['sb_cars_l'] + intersection['sb_truck_l'] + intersection['sb_bus_l']\n",
        "\n",
        "\n",
        "updated_intersection['east_1'] = intersection['eb_cars_r'] + intersection['eb_truck_r'] + intersection['eb_bus_r']\n",
        "updated_intersection['east_2'] = intersection['eb_cars_l'] + intersection['eb_truck_l'] + intersection['eb_bus_l']\n",
        "\n",
        "updated_intersection['west_1'] = intersection['wb_cars_r'] + intersection['wb_truck_r'] + intersection['wb_bus_r']\n",
        "updated_intersection['west_2'] = intersection['wb_cars_l'] + intersection['wb_truck_l'] + intersection['wb_bus_l']\n",
        "\n"
      ]
    },
    {
      "cell_type": "code",
      "execution_count": 8,
      "metadata": {
        "id": "33BehbBNALxH"
      },
      "outputs": [
        {
          "name": "stderr",
          "output_type": "stream",
          "text": [
            "C:\\Users\\julio\\AppData\\Local\\Temp\\ipykernel_9020\\1943901178.py:4: FutureWarning: 'T' is deprecated and will be removed in a future version, please use 'min' instead.\n",
            "  datetime_index = pd.date_range(start='2024-04-01 00:00:00', periods=len(updated_intersection), freq='15T')\n"
          ]
        }
      ],
      "source": [
        "\n",
        "\n",
        "# convertir formato de fecha\n",
        "datetime_index = pd.date_range(start='2024-04-01 00:00:00', periods=len(updated_intersection), freq='15T')\n",
        "updated_intersection.index = datetime_index\n"
      ]
    },
    {
      "cell_type": "code",
      "execution_count": 9,
      "metadata": {
        "colab": {
          "base_uri": "https://localhost:8080/",
          "height": 423
        },
        "id": "zwqyNcI432W3",
        "outputId": "4ec19ca4-50c4-4be7-da3b-76a876a0fc5a"
      },
      "outputs": [
        {
          "data": {
            "text/html": [
              "<div>\n",
              "<style scoped>\n",
              "    .dataframe tbody tr th:only-of-type {\n",
              "        vertical-align: middle;\n",
              "    }\n",
              "\n",
              "    .dataframe tbody tr th {\n",
              "        vertical-align: top;\n",
              "    }\n",
              "\n",
              "    .dataframe thead th {\n",
              "        text-align: right;\n",
              "    }\n",
              "</style>\n",
              "<table border=\"1\" class=\"dataframe\">\n",
              "  <thead>\n",
              "    <tr style=\"text-align: right;\">\n",
              "      <th></th>\n",
              "      <th>north_1</th>\n",
              "      <th>north_2</th>\n",
              "      <th>south_1</th>\n",
              "      <th>south_2</th>\n",
              "      <th>east_1</th>\n",
              "      <th>east_2</th>\n",
              "      <th>west_1</th>\n",
              "      <th>west_2</th>\n",
              "    </tr>\n",
              "  </thead>\n",
              "  <tbody>\n",
              "    <tr>\n",
              "      <th>2024-04-01 00:00:00</th>\n",
              "      <td>2</td>\n",
              "      <td>8</td>\n",
              "      <td>1</td>\n",
              "      <td>2</td>\n",
              "      <td>14</td>\n",
              "      <td>3</td>\n",
              "      <td>5</td>\n",
              "      <td>5</td>\n",
              "    </tr>\n",
              "    <tr>\n",
              "      <th>2024-04-01 00:15:00</th>\n",
              "      <td>6</td>\n",
              "      <td>7</td>\n",
              "      <td>0</td>\n",
              "      <td>0</td>\n",
              "      <td>19</td>\n",
              "      <td>6</td>\n",
              "      <td>5</td>\n",
              "      <td>5</td>\n",
              "    </tr>\n",
              "    <tr>\n",
              "      <th>2024-04-01 00:30:00</th>\n",
              "      <td>3</td>\n",
              "      <td>11</td>\n",
              "      <td>1</td>\n",
              "      <td>6</td>\n",
              "      <td>9</td>\n",
              "      <td>1</td>\n",
              "      <td>4</td>\n",
              "      <td>2</td>\n",
              "    </tr>\n",
              "    <tr>\n",
              "      <th>2024-04-01 00:45:00</th>\n",
              "      <td>9</td>\n",
              "      <td>23</td>\n",
              "      <td>3</td>\n",
              "      <td>5</td>\n",
              "      <td>12</td>\n",
              "      <td>4</td>\n",
              "      <td>10</td>\n",
              "      <td>2</td>\n",
              "    </tr>\n",
              "    <tr>\n",
              "      <th>2024-04-01 01:00:00</th>\n",
              "      <td>8</td>\n",
              "      <td>12</td>\n",
              "      <td>5</td>\n",
              "      <td>3</td>\n",
              "      <td>13</td>\n",
              "      <td>3</td>\n",
              "      <td>6</td>\n",
              "      <td>5</td>\n",
              "    </tr>\n",
              "    <tr>\n",
              "      <th>...</th>\n",
              "      <td>...</td>\n",
              "      <td>...</td>\n",
              "      <td>...</td>\n",
              "      <td>...</td>\n",
              "      <td>...</td>\n",
              "      <td>...</td>\n",
              "      <td>...</td>\n",
              "      <td>...</td>\n",
              "    </tr>\n",
              "    <tr>\n",
              "      <th>2024-04-08 22:45:00</th>\n",
              "      <td>24</td>\n",
              "      <td>42</td>\n",
              "      <td>17</td>\n",
              "      <td>22</td>\n",
              "      <td>21</td>\n",
              "      <td>1</td>\n",
              "      <td>16</td>\n",
              "      <td>13</td>\n",
              "    </tr>\n",
              "    <tr>\n",
              "      <th>2024-04-08 23:00:00</th>\n",
              "      <td>29</td>\n",
              "      <td>51</td>\n",
              "      <td>29</td>\n",
              "      <td>13</td>\n",
              "      <td>24</td>\n",
              "      <td>2</td>\n",
              "      <td>17</td>\n",
              "      <td>13</td>\n",
              "    </tr>\n",
              "    <tr>\n",
              "      <th>2024-04-08 23:15:00</th>\n",
              "      <td>25</td>\n",
              "      <td>59</td>\n",
              "      <td>15</td>\n",
              "      <td>18</td>\n",
              "      <td>19</td>\n",
              "      <td>0</td>\n",
              "      <td>8</td>\n",
              "      <td>9</td>\n",
              "    </tr>\n",
              "    <tr>\n",
              "      <th>2024-04-08 23:30:00</th>\n",
              "      <td>30</td>\n",
              "      <td>44</td>\n",
              "      <td>19</td>\n",
              "      <td>16</td>\n",
              "      <td>11</td>\n",
              "      <td>0</td>\n",
              "      <td>13</td>\n",
              "      <td>11</td>\n",
              "    </tr>\n",
              "    <tr>\n",
              "      <th>2024-04-08 23:45:00</th>\n",
              "      <td>31</td>\n",
              "      <td>43</td>\n",
              "      <td>16</td>\n",
              "      <td>18</td>\n",
              "      <td>11</td>\n",
              "      <td>2</td>\n",
              "      <td>25</td>\n",
              "      <td>5</td>\n",
              "    </tr>\n",
              "  </tbody>\n",
              "</table>\n",
              "<p>768 rows × 8 columns</p>\n",
              "</div>"
            ],
            "text/plain": [
              "                     north_1  north_2  south_1  south_2  east_1  east_2  \\\n",
              "2024-04-01 00:00:00        2        8        1        2      14       3   \n",
              "2024-04-01 00:15:00        6        7        0        0      19       6   \n",
              "2024-04-01 00:30:00        3       11        1        6       9       1   \n",
              "2024-04-01 00:45:00        9       23        3        5      12       4   \n",
              "2024-04-01 01:00:00        8       12        5        3      13       3   \n",
              "...                      ...      ...      ...      ...     ...     ...   \n",
              "2024-04-08 22:45:00       24       42       17       22      21       1   \n",
              "2024-04-08 23:00:00       29       51       29       13      24       2   \n",
              "2024-04-08 23:15:00       25       59       15       18      19       0   \n",
              "2024-04-08 23:30:00       30       44       19       16      11       0   \n",
              "2024-04-08 23:45:00       31       43       16       18      11       2   \n",
              "\n",
              "                     west_1  west_2  \n",
              "2024-04-01 00:00:00       5       5  \n",
              "2024-04-01 00:15:00       5       5  \n",
              "2024-04-01 00:30:00       4       2  \n",
              "2024-04-01 00:45:00      10       2  \n",
              "2024-04-01 01:00:00       6       5  \n",
              "...                     ...     ...  \n",
              "2024-04-08 22:45:00      16      13  \n",
              "2024-04-08 23:00:00      17      13  \n",
              "2024-04-08 23:15:00       8       9  \n",
              "2024-04-08 23:30:00      13      11  \n",
              "2024-04-08 23:45:00      25       5  \n",
              "\n",
              "[768 rows x 8 columns]"
            ]
          },
          "execution_count": 9,
          "metadata": {},
          "output_type": "execute_result"
        }
      ],
      "source": [
        "df = updated_intersection.copy()\n",
        "df"
      ]
    },
    {
      "cell_type": "code",
      "execution_count": 10,
      "metadata": {
        "id": "4l499HV4_aAH"
      },
      "outputs": [],
      "source": [
        "df['hour'] = df.index.hour\n",
        "df['minute'] = df.index.minute\n",
        "df['day'] = df.index.weekday"
      ]
    },
    {
      "cell_type": "code",
      "execution_count": 11,
      "metadata": {
        "colab": {
          "base_uri": "https://localhost:8080/",
          "height": 206
        },
        "id": "Vib23IRvBONU",
        "outputId": "ae351b01-72bc-48c8-e256-9554295f1876"
      },
      "outputs": [
        {
          "data": {
            "text/html": [
              "<div>\n",
              "<style scoped>\n",
              "    .dataframe tbody tr th:only-of-type {\n",
              "        vertical-align: middle;\n",
              "    }\n",
              "\n",
              "    .dataframe tbody tr th {\n",
              "        vertical-align: top;\n",
              "    }\n",
              "\n",
              "    .dataframe thead th {\n",
              "        text-align: right;\n",
              "    }\n",
              "</style>\n",
              "<table border=\"1\" class=\"dataframe\">\n",
              "  <thead>\n",
              "    <tr style=\"text-align: right;\">\n",
              "      <th></th>\n",
              "      <th>north_1</th>\n",
              "      <th>north_2</th>\n",
              "      <th>south_1</th>\n",
              "      <th>south_2</th>\n",
              "      <th>east_1</th>\n",
              "      <th>east_2</th>\n",
              "      <th>west_1</th>\n",
              "      <th>west_2</th>\n",
              "      <th>hour</th>\n",
              "      <th>minute</th>\n",
              "      <th>day</th>\n",
              "    </tr>\n",
              "  </thead>\n",
              "  <tbody>\n",
              "    <tr>\n",
              "      <th>2024-04-01 00:00:00</th>\n",
              "      <td>2</td>\n",
              "      <td>8</td>\n",
              "      <td>1</td>\n",
              "      <td>2</td>\n",
              "      <td>14</td>\n",
              "      <td>3</td>\n",
              "      <td>5</td>\n",
              "      <td>5</td>\n",
              "      <td>0</td>\n",
              "      <td>0</td>\n",
              "      <td>0</td>\n",
              "    </tr>\n",
              "    <tr>\n",
              "      <th>2024-04-01 00:15:00</th>\n",
              "      <td>6</td>\n",
              "      <td>7</td>\n",
              "      <td>0</td>\n",
              "      <td>0</td>\n",
              "      <td>19</td>\n",
              "      <td>6</td>\n",
              "      <td>5</td>\n",
              "      <td>5</td>\n",
              "      <td>0</td>\n",
              "      <td>15</td>\n",
              "      <td>0</td>\n",
              "    </tr>\n",
              "    <tr>\n",
              "      <th>2024-04-01 00:30:00</th>\n",
              "      <td>3</td>\n",
              "      <td>11</td>\n",
              "      <td>1</td>\n",
              "      <td>6</td>\n",
              "      <td>9</td>\n",
              "      <td>1</td>\n",
              "      <td>4</td>\n",
              "      <td>2</td>\n",
              "      <td>0</td>\n",
              "      <td>30</td>\n",
              "      <td>0</td>\n",
              "    </tr>\n",
              "    <tr>\n",
              "      <th>2024-04-01 00:45:00</th>\n",
              "      <td>9</td>\n",
              "      <td>23</td>\n",
              "      <td>3</td>\n",
              "      <td>5</td>\n",
              "      <td>12</td>\n",
              "      <td>4</td>\n",
              "      <td>10</td>\n",
              "      <td>2</td>\n",
              "      <td>0</td>\n",
              "      <td>45</td>\n",
              "      <td>0</td>\n",
              "    </tr>\n",
              "    <tr>\n",
              "      <th>2024-04-01 01:00:00</th>\n",
              "      <td>8</td>\n",
              "      <td>12</td>\n",
              "      <td>5</td>\n",
              "      <td>3</td>\n",
              "      <td>13</td>\n",
              "      <td>3</td>\n",
              "      <td>6</td>\n",
              "      <td>5</td>\n",
              "      <td>1</td>\n",
              "      <td>0</td>\n",
              "      <td>0</td>\n",
              "    </tr>\n",
              "  </tbody>\n",
              "</table>\n",
              "</div>"
            ],
            "text/plain": [
              "                     north_1  north_2  south_1  south_2  east_1  east_2  \\\n",
              "2024-04-01 00:00:00        2        8        1        2      14       3   \n",
              "2024-04-01 00:15:00        6        7        0        0      19       6   \n",
              "2024-04-01 00:30:00        3       11        1        6       9       1   \n",
              "2024-04-01 00:45:00        9       23        3        5      12       4   \n",
              "2024-04-01 01:00:00        8       12        5        3      13       3   \n",
              "\n",
              "                     west_1  west_2  hour  minute  day  \n",
              "2024-04-01 00:00:00       5       5     0       0    0  \n",
              "2024-04-01 00:15:00       5       5     0      15    0  \n",
              "2024-04-01 00:30:00       4       2     0      30    0  \n",
              "2024-04-01 00:45:00      10       2     0      45    0  \n",
              "2024-04-01 01:00:00       6       5     1       0    0  "
            ]
          },
          "execution_count": 11,
          "metadata": {},
          "output_type": "execute_result"
        }
      ],
      "source": [
        "df.head()"
      ]
    },
    {
      "cell_type": "code",
      "execution_count": 12,
      "metadata": {
        "colab": {
          "base_uri": "https://localhost:8080/",
          "height": 480
        },
        "id": "3mEEjmmLB1FN",
        "outputId": "38e0cec0-eaba-4265-ecf0-0a85ee4afb97"
      },
      "outputs": [
        {
          "data": {
            "text/plain": [
              "[]"
            ]
          },
          "execution_count": 12,
          "metadata": {},
          "output_type": "execute_result"
        },
        {
          "data": {
            "image/png": "[encoded data removed]",
            "text/plain": [
              "<Figure size 640x480 with 4 Axes>"
            ]
          },
          "metadata": {},
          "output_type": "display_data"
        }
      ],
      "source": [
        "df[['south_1', 'south_1', 'north_1', 'north_2']].plot(subplots=True)\n",
        "plt.plot()"
      ]
    },
    {
      "cell_type": "code",
      "execution_count": 13,
      "metadata": {
        "id": "utcdjBcwB7xb"
      },
      "outputs": [],
      "source": [
        "input_features = df[['day', 'hour', 'minute']].values\n",
        "traffic_counts = df[['north_1', 'north_2', 'south_1', 'south_2', 'east_1', 'east_2','west_1', 'west_2']].values"
      ]
    },
    {
      "cell_type": "code",
      "execution_count": 14,
      "metadata": {
        "id": "7KYxtiEaCqb0"
      },
      "outputs": [],
      "source": [
        "data_combined = np.hstack((input_features, traffic_counts))"
      ]
    },
    {
      "cell_type": "code",
      "execution_count": 15,
      "metadata": {
        "id": "6lcQWFbrC1fJ"
      },
      "outputs": [],
      "source": [
        "def create_sequences(data, seq_length):\n",
        "    X = []\n",
        "    y = []\n",
        "    for i in range(len(data) - seq_length):\n",
        "        X.append(data[i:i + seq_length, :3])  # El imput es el dia hora y minuto\n",
        "        y.append(data[i + seq_length, 3:])    # El output es la cantidad de vehiculos\n",
        "    return np.array(X), np.array(y)\n",
        "\n",
        "seq_length = 5\n",
        "X, y = create_sequences(data_combined, seq_length)"
      ]
    },
    {
      "cell_type": "code",
      "execution_count": 16,
      "metadata": {
        "id": "_WIYXjcsC_bK"
      },
      "outputs": [],
      "source": [
        "X_train, X_test, y_train, y_test = train_test_split(X, y, test_size=0.2, shuffle=False)"
      ]
    },
    {
      "cell_type": "code",
      "execution_count": 17,
      "metadata": {
        "colab": {
          "base_uri": "https://localhost:8080/"
        },
        "id": "hX_6fogpDBBC",
        "outputId": "2f590eae-366d-4965-a3c2-e7322d158e92"
      },
      "outputs": [
        {
          "data": {
            "text/plain": [
              "array([[ 0,  0,  0],\n",
              "       [ 0,  0, 15],\n",
              "       [ 0,  0, 30],\n",
              "       [ 0,  0, 45],\n",
              "       [ 0,  1,  0]], dtype=int64)"
            ]
          },
          "execution_count": 17,
          "metadata": {},
          "output_type": "execute_result"
        }
      ],
      "source": [
        "X_train[0]"
      ]
    },
    {
      "cell_type": "code",
      "execution_count": 18,
      "metadata": {
        "colab": {
          "base_uri": "https://localhost:8080/"
        },
        "id": "xA_i-DEEDDCy",
        "outputId": "4dc38522-0da3-42dc-9c0f-52b03c24e247"
      },
      "outputs": [
        {
          "data": {
            "text/plain": [
              "array([ 8, 12,  6, 10, 13,  3, 14,  2], dtype=int64)"
            ]
          },
          "execution_count": 18,
          "metadata": {},
          "output_type": "execute_result"
        }
      ],
      "source": [
        "y_train[0]"
      ]
    },
    {
      "cell_type": "code",
      "execution_count": 19,
      "metadata": {
        "colab": {
          "base_uri": "https://localhost:8080/"
        },
        "id": "50pUk4HNDFAI",
        "outputId": "535231b6-5822-4e31-a44e-53189e27c0df"
      },
      "outputs": [
        {
          "name": "stderr",
          "output_type": "stream",
          "text": [
            "c:\\Users\\julio\\FreeWays\\Env\\Lib\\site-packages\\keras\\src\\layers\\rnn\\rnn.py:204: UserWarning: Do not pass an `input_shape`/`input_dim` argument to a layer. When using Sequential models, prefer using an `Input(shape)` object as the first layer in the model instead.\n",
            "  super().__init__(**kwargs)\n"
          ]
        },
        {
          "data": {
            "text/html": [
              "<pre style=\"white-space:pre;overflow-x:auto;line-height:normal;font-family:Menlo,'DejaVu Sans Mono',consolas,'Courier New',monospace\"><span style=\"font-weight: bold\">Model: \"sequential\"</span>\n",
              "</pre>\n"
            ],
            "text/plain": [
              "\u001b[1mModel: \"sequential\"\u001b[0m\n"
            ]
          },
          "metadata": {},
          "output_type": "display_data"
        },
        {
          "data": {
            "text/html": [
              "<pre style=\"white-space:pre;overflow-x:auto;line-height:normal;font-family:Menlo,'DejaVu Sans Mono',consolas,'Courier New',monospace\">┏━━━━━━━━━━━━━━━━━━━━━━━━━━━━━━━━━┳━━━━━━━━━━━━━━━━━━━━━━━━┳━━━━━━━━━━━━━━━┓\n",
              "┃<span style=\"font-weight: bold\"> Layer (type)                    </span>┃<span style=\"font-weight: bold\"> Output Shape           </span>┃<span style=\"font-weight: bold\">       Param # </span>┃\n",
              "┡━━━━━━━━━━━━━━━━━━━━━━━━━━━━━━━━━╇━━━━━━━━━━━━━━━━━━━━━━━━╇━━━━━━━━━━━━━━━┩\n",
              "│ lstm (<span style=\"color: #0087ff; text-decoration-color: #0087ff\">LSTM</span>)                     │ (<span style=\"color: #00d7ff; text-decoration-color: #00d7ff\">None</span>, <span style=\"color: #00af00; text-decoration-color: #00af00\">5</span>, <span style=\"color: #00af00; text-decoration-color: #00af00\">50</span>)          │        <span style=\"color: #00af00; text-decoration-color: #00af00\">10,800</span> │\n",
              "├─────────────────────────────────┼────────────────────────┼───────────────┤\n",
              "│ bidirectional (<span style=\"color: #0087ff; text-decoration-color: #0087ff\">Bidirectional</span>)   │ (<span style=\"color: #00d7ff; text-decoration-color: #00d7ff\">None</span>, <span style=\"color: #00af00; text-decoration-color: #00af00\">100</span>)            │        <span style=\"color: #00af00; text-decoration-color: #00af00\">40,400</span> │\n",
              "├─────────────────────────────────┼────────────────────────┼───────────────┤\n",
              "│ dense (<span style=\"color: #0087ff; text-decoration-color: #0087ff\">Dense</span>)                   │ (<span style=\"color: #00d7ff; text-decoration-color: #00d7ff\">None</span>, <span style=\"color: #00af00; text-decoration-color: #00af00\">8</span>)              │           <span style=\"color: #00af00; text-decoration-color: #00af00\">808</span> │\n",
              "└─────────────────────────────────┴────────────────────────┴───────────────┘\n",
              "</pre>\n"
            ],
            "text/plain": [
              "┏━━━━━━━━━━━━━━━━━━━━━━━━━━━━━━━━━┳━━━━━━━━━━━━━━━━━━━━━━━━┳━━━━━━━━━━━━━━━┓\n",
              "┃\u001b[1m \u001b[0m\u001b[1mLayer (type)                   \u001b[0m\u001b[1m \u001b[0m┃\u001b[1m \u001b[0m\u001b[1mOutput Shape          \u001b[0m\u001b[1m \u001b[0m┃\u001b[1m \u001b[0m\u001b[1m      Param #\u001b[0m\u001b[1m \u001b[0m┃\n",
              "┡━━━━━━━━━━━━━━━━━━━━━━━━━━━━━━━━━╇━━━━━━━━━━━━━━━━━━━━━━━━╇━━━━━━━━━━━━━━━┩\n",
              "│ lstm (\u001b[38;5;33mLSTM\u001b[0m)                     │ (\u001b[38;5;45mNone\u001b[0m, \u001b[38;5;34m5\u001b[0m, \u001b[38;5;34m50\u001b[0m)          │        \u001b[38;5;34m10,800\u001b[0m │\n",
              "├─────────────────────────────────┼────────────────────────┼───────────────┤\n",
              "│ bidirectional (\u001b[38;5;33mBidirectional\u001b[0m)   │ (\u001b[38;5;45mNone\u001b[0m, \u001b[38;5;34m100\u001b[0m)            │        \u001b[38;5;34m40,400\u001b[0m │\n",
              "├─────────────────────────────────┼────────────────────────┼───────────────┤\n",
              "│ dense (\u001b[38;5;33mDense\u001b[0m)                   │ (\u001b[38;5;45mNone\u001b[0m, \u001b[38;5;34m8\u001b[0m)              │           \u001b[38;5;34m808\u001b[0m │\n",
              "└─────────────────────────────────┴────────────────────────┴───────────────┘\n"
            ]
          },
          "metadata": {},
          "output_type": "display_data"
        },
        {
          "data": {
            "text/html": [
              "<pre style=\"white-space:pre;overflow-x:auto;line-height:normal;font-family:Menlo,'DejaVu Sans Mono',consolas,'Courier New',monospace\"><span style=\"font-weight: bold\"> Total params: </span><span style=\"color: #00af00; text-decoration-color: #00af00\">52,008</span> (203.16 KB)\n",
              "</pre>\n"
            ],
            "text/plain": [
              "\u001b[1m Total params: \u001b[0m\u001b[38;5;34m52,008\u001b[0m (203.16 KB)\n"
            ]
          },
          "metadata": {},
          "output_type": "display_data"
        },
        {
          "data": {
            "text/html": [
              "<pre style=\"white-space:pre;overflow-x:auto;line-height:normal;font-family:Menlo,'DejaVu Sans Mono',consolas,'Courier New',monospace\"><span style=\"font-weight: bold\"> Trainable params: </span><span style=\"color: #00af00; text-decoration-color: #00af00\">52,008</span> (203.16 KB)\n",
              "</pre>\n"
            ],
            "text/plain": [
              "\u001b[1m Trainable params: \u001b[0m\u001b[38;5;34m52,008\u001b[0m (203.16 KB)\n"
            ]
          },
          "metadata": {},
          "output_type": "display_data"
        },
        {
          "data": {
            "text/html": [
              "<pre style=\"white-space:pre;overflow-x:auto;line-height:normal;font-family:Menlo,'DejaVu Sans Mono',consolas,'Courier New',monospace\"><span style=\"font-weight: bold\"> Non-trainable params: </span><span style=\"color: #00af00; text-decoration-color: #00af00\">0</span> (0.00 B)\n",
              "</pre>\n"
            ],
            "text/plain": [
              "\u001b[1m Non-trainable params: \u001b[0m\u001b[38;5;34m0\u001b[0m (0.00 B)\n"
            ]
          },
          "metadata": {},
          "output_type": "display_data"
        }
      ],
      "source": [
        "model = Sequential()\n",
        "model.add(LSTM(50, return_sequences=True, input_shape=(X_train.shape[1], X_train.shape[2])))\n",
        "model.add(Bidirectional(LSTM(50)))\n",
        "model.add(Dense(y_train.shape[1]))  \n",
        "\n",
        "model.compile(optimizer='adam', loss='mse', metrics=['mae'])\n",
        "model.summary()"
      ]
    },
    {
      "cell_type": "code",
      "execution_count": 20,
      "metadata": {
        "colab": {
          "base_uri": "https://localhost:8080/"
        },
        "id": "8EoRVLxfDKys",
        "outputId": "d7cd85be-47d9-4c4f-c12c-95e9c837c9e1"
      },
      "outputs": [
        {
          "name": "stdout",
          "output_type": "stream",
          "text": [
            "Epoch 1/100\n",
            "20/20 - 3s - 141ms/step - loss: 393.5275 - mae: 16.2852 - val_loss: 377.9381 - val_mae: 15.9545\n",
            "Epoch 2/100\n",
            "20/20 - 0s - 5ms/step - loss: 285.4238 - mae: 13.3781 - val_loss: 248.2432 - val_mae: 12.3123\n",
            "Epoch 3/100\n",
            "20/20 - 0s - 4ms/step - loss: 187.0542 - mae: 10.2224 - val_loss: 175.0165 - val_mae: 9.7744\n",
            "Epoch 4/100\n",
            "20/20 - 0s - 4ms/step - loss: 138.0189 - mae: 8.3822 - val_loss: 136.6722 - val_mae: 8.3168\n",
            "Epoch 5/100\n",
            "20/20 - 0s - 4ms/step - loss: 110.5052 - mae: 7.2869 - val_loss: 112.4422 - val_mae: 7.3546\n",
            "Epoch 6/100\n",
            "20/20 - 0s - 4ms/step - loss: 92.1058 - mae: 6.5462 - val_loss: 95.0024 - val_mae: 6.6432\n",
            "Epoch 7/100\n",
            "20/20 - 0s - 4ms/step - loss: 79.2839 - mae: 6.0175 - val_loss: 82.8351 - val_mae: 6.1610\n",
            "Epoch 8/100\n",
            "20/20 - 0s - 4ms/step - loss: 70.4386 - mae: 5.6674 - val_loss: 74.0344 - val_mae: 5.8170\n",
            "Epoch 9/100\n",
            "20/20 - 0s - 4ms/step - loss: 64.0578 - mae: 5.4134 - val_loss: 67.4170 - val_mae: 5.5633\n",
            "Epoch 10/100\n",
            "20/20 - 0s - 4ms/step - loss: 59.3164 - mae: 5.2392 - val_loss: 62.2214 - val_mae: 5.3644\n",
            "Epoch 11/100\n",
            "20/20 - 0s - 4ms/step - loss: 55.8610 - mae: 5.1230 - val_loss: 58.6475 - val_mae: 5.2395\n",
            "Epoch 12/100\n",
            "20/20 - 0s - 4ms/step - loss: 53.3933 - mae: 5.0352 - val_loss: 55.7655 - val_mae: 5.1433\n",
            "Epoch 13/100\n",
            "20/20 - 0s - 4ms/step - loss: 51.5180 - mae: 4.9702 - val_loss: 53.5900 - val_mae: 5.0782\n",
            "Epoch 14/100\n",
            "20/20 - 0s - 4ms/step - loss: 50.2028 - mae: 4.9302 - val_loss: 51.9267 - val_mae: 5.0293\n",
            "Epoch 15/100\n",
            "20/20 - 0s - 4ms/step - loss: 49.2246 - mae: 4.8978 - val_loss: 50.4986 - val_mae: 4.9827\n",
            "Epoch 16/100\n",
            "20/20 - 0s - 4ms/step - loss: 48.4871 - mae: 4.8755 - val_loss: 49.1780 - val_mae: 4.9399\n",
            "Epoch 17/100\n",
            "20/20 - 0s - 4ms/step - loss: 47.9894 - mae: 4.8625 - val_loss: 48.2705 - val_mae: 4.9155\n",
            "Epoch 18/100\n",
            "20/20 - 0s - 4ms/step - loss: 47.5688 - mae: 4.8496 - val_loss: 47.8097 - val_mae: 4.9056\n",
            "Epoch 19/100\n",
            "20/20 - 0s - 4ms/step - loss: 47.3126 - mae: 4.8431 - val_loss: 47.2520 - val_mae: 4.8868\n",
            "Epoch 20/100\n",
            "20/20 - 0s - 5ms/step - loss: 47.1756 - mae: 4.8437 - val_loss: 46.5708 - val_mae: 4.8605\n",
            "Epoch 21/100\n",
            "20/20 - 0s - 4ms/step - loss: 47.0534 - mae: 4.8395 - val_loss: 46.4151 - val_mae: 4.8589\n",
            "Epoch 22/100\n",
            "20/20 - 0s - 4ms/step - loss: 46.9743 - mae: 4.8392 - val_loss: 46.3144 - val_mae: 4.8600\n",
            "Epoch 23/100\n",
            "20/20 - 0s - 4ms/step - loss: 46.9540 - mae: 4.8391 - val_loss: 46.2046 - val_mae: 4.8566\n",
            "Epoch 24/100\n",
            "20/20 - 0s - 4ms/step - loss: 46.9200 - mae: 4.8425 - val_loss: 46.0236 - val_mae: 4.8571\n",
            "Epoch 25/100\n",
            "20/20 - 0s - 4ms/step - loss: 46.8734 - mae: 4.8395 - val_loss: 45.7834 - val_mae: 4.8392\n",
            "Epoch 26/100\n",
            "20/20 - 0s - 4ms/step - loss: 46.8759 - mae: 4.8390 - val_loss: 45.8886 - val_mae: 4.8464\n",
            "Epoch 27/100\n",
            "20/20 - 0s - 4ms/step - loss: 46.8755 - mae: 4.8388 - val_loss: 45.5905 - val_mae: 4.8313\n",
            "Epoch 28/100\n",
            "20/20 - 0s - 4ms/step - loss: 46.8631 - mae: 4.8392 - val_loss: 45.5583 - val_mae: 4.8283\n",
            "Epoch 29/100\n",
            "20/20 - 0s - 4ms/step - loss: 46.8345 - mae: 4.8383 - val_loss: 45.7492 - val_mae: 4.8405\n",
            "Epoch 30/100\n",
            "20/20 - 0s - 4ms/step - loss: 46.8588 - mae: 4.8409 - val_loss: 45.8383 - val_mae: 4.8451\n",
            "Epoch 31/100\n",
            "20/20 - 0s - 4ms/step - loss: 46.8796 - mae: 4.8405 - val_loss: 45.6154 - val_mae: 4.8278\n",
            "Epoch 32/100\n",
            "20/20 - 0s - 4ms/step - loss: 46.8782 - mae: 4.8398 - val_loss: 45.5369 - val_mae: 4.8253\n",
            "Epoch 33/100\n",
            "20/20 - 0s - 4ms/step - loss: 46.8922 - mae: 4.8367 - val_loss: 46.0088 - val_mae: 4.8532\n",
            "Epoch 34/100\n",
            "20/20 - 0s - 4ms/step - loss: 46.8656 - mae: 4.8374 - val_loss: 45.7101 - val_mae: 4.8442\n",
            "Epoch 35/100\n",
            "20/20 - 0s - 4ms/step - loss: 46.8597 - mae: 4.8419 - val_loss: 45.7462 - val_mae: 4.8467\n",
            "Epoch 36/100\n",
            "20/20 - 0s - 4ms/step - loss: 46.8653 - mae: 4.8386 - val_loss: 45.7629 - val_mae: 4.8454\n",
            "Epoch 37/100\n",
            "20/20 - 0s - 4ms/step - loss: 46.8631 - mae: 4.8378 - val_loss: 45.5763 - val_mae: 4.8401\n",
            "Epoch 38/100\n",
            "20/20 - 0s - 4ms/step - loss: 46.8635 - mae: 4.8415 - val_loss: 45.3419 - val_mae: 4.8317\n",
            "Epoch 39/100\n",
            "20/20 - 0s - 4ms/step - loss: 46.8479 - mae: 4.8396 - val_loss: 45.4458 - val_mae: 4.8378\n",
            "Epoch 40/100\n",
            "20/20 - 0s - 4ms/step - loss: 46.8458 - mae: 4.8418 - val_loss: 45.4230 - val_mae: 4.8357\n",
            "Epoch 41/100\n",
            "20/20 - 0s - 4ms/step - loss: 46.8511 - mae: 4.8412 - val_loss: 45.6590 - val_mae: 4.8465\n",
            "Epoch 42/100\n",
            "20/20 - 0s - 4ms/step - loss: 46.8458 - mae: 4.8371 - val_loss: 45.6001 - val_mae: 4.8409\n",
            "Epoch 43/100\n",
            "20/20 - 0s - 4ms/step - loss: 46.8656 - mae: 4.8406 - val_loss: 45.2321 - val_mae: 4.8186\n",
            "Epoch 44/100\n",
            "20/20 - 0s - 4ms/step - loss: 46.8586 - mae: 4.8432 - val_loss: 45.3161 - val_mae: 4.8239\n",
            "Epoch 45/100\n",
            "20/20 - 0s - 4ms/step - loss: 46.8326 - mae: 4.8409 - val_loss: 45.0296 - val_mae: 4.8121\n",
            "Epoch 46/100\n",
            "20/20 - 0s - 4ms/step - loss: 46.8558 - mae: 4.8426 - val_loss: 45.0213 - val_mae: 4.8160\n",
            "Epoch 47/100\n",
            "20/20 - 0s - 4ms/step - loss: 46.8445 - mae: 4.8445 - val_loss: 45.0334 - val_mae: 4.8222\n",
            "Epoch 48/100\n",
            "20/20 - 0s - 4ms/step - loss: 46.8706 - mae: 4.8470 - val_loss: 45.0455 - val_mae: 4.8277\n",
            "Epoch 49/100\n",
            "20/20 - 0s - 4ms/step - loss: 46.8470 - mae: 4.8418 - val_loss: 44.9636 - val_mae: 4.8201\n",
            "Epoch 50/100\n",
            "20/20 - 0s - 4ms/step - loss: 46.8397 - mae: 4.8411 - val_loss: 45.0176 - val_mae: 4.8155\n",
            "Epoch 51/100\n",
            "20/20 - 0s - 4ms/step - loss: 46.8404 - mae: 4.8402 - val_loss: 45.1405 - val_mae: 4.8192\n",
            "Epoch 52/100\n",
            "20/20 - 0s - 4ms/step - loss: 46.8360 - mae: 4.8411 - val_loss: 45.0387 - val_mae: 4.8153\n",
            "Epoch 53/100\n",
            "20/20 - 0s - 4ms/step - loss: 46.8414 - mae: 4.8447 - val_loss: 45.2119 - val_mae: 4.8216\n",
            "Epoch 54/100\n",
            "20/20 - 0s - 4ms/step - loss: 46.8286 - mae: 4.8403 - val_loss: 45.3036 - val_mae: 4.8239\n",
            "Epoch 55/100\n",
            "20/20 - 0s - 4ms/step - loss: 46.8542 - mae: 4.8452 - val_loss: 45.0384 - val_mae: 4.8151\n",
            "Epoch 56/100\n",
            "20/20 - 0s - 4ms/step - loss: 46.8229 - mae: 4.8446 - val_loss: 45.2383 - val_mae: 4.8266\n",
            "Epoch 57/100\n",
            "20/20 - 0s - 4ms/step - loss: 46.8260 - mae: 4.8422 - val_loss: 45.3860 - val_mae: 4.8325\n",
            "Epoch 58/100\n",
            "20/20 - 0s - 4ms/step - loss: 46.8267 - mae: 4.8419 - val_loss: 45.2565 - val_mae: 4.8275\n",
            "Epoch 59/100\n",
            "20/20 - 0s - 4ms/step - loss: 46.8269 - mae: 4.8435 - val_loss: 45.1557 - val_mae: 4.8279\n",
            "Epoch 60/100\n",
            "20/20 - 0s - 4ms/step - loss: 46.7658 - mae: 4.8387 - val_loss: 45.7755 - val_mae: 4.8612\n",
            "Epoch 61/100\n",
            "20/20 - 0s - 4ms/step - loss: 46.8018 - mae: 4.8392 - val_loss: 46.5889 - val_mae: 4.8836\n",
            "Epoch 62/100\n",
            "20/20 - 0s - 4ms/step - loss: 46.8073 - mae: 4.8188 - val_loss: 46.8773 - val_mae: 4.8956\n",
            "Epoch 63/100\n",
            "20/20 - 0s - 4ms/step - loss: 46.3079 - mae: 4.7942 - val_loss: 50.1259 - val_mae: 5.0709\n",
            "Epoch 64/100\n",
            "20/20 - 0s - 4ms/step - loss: 46.0320 - mae: 4.7885 - val_loss: 46.2606 - val_mae: 4.8714\n",
            "Epoch 65/100\n",
            "20/20 - 0s - 4ms/step - loss: 46.1114 - mae: 4.7926 - val_loss: 47.6302 - val_mae: 4.9577\n",
            "Epoch 66/100\n",
            "20/20 - 0s - 4ms/step - loss: 45.6913 - mae: 4.7648 - val_loss: 46.8524 - val_mae: 4.9224\n",
            "Epoch 67/100\n",
            "20/20 - 0s - 4ms/step - loss: 45.6121 - mae: 4.7626 - val_loss: 47.5231 - val_mae: 4.9636\n",
            "Epoch 68/100\n",
            "20/20 - 0s - 4ms/step - loss: 45.5387 - mae: 4.7593 - val_loss: 48.6607 - val_mae: 5.0335\n",
            "Epoch 69/100\n",
            "20/20 - 0s - 4ms/step - loss: 45.5591 - mae: 4.7521 - val_loss: 47.4383 - val_mae: 4.9675\n",
            "Epoch 70/100\n",
            "20/20 - 0s - 4ms/step - loss: 47.7116 - mae: 4.8769 - val_loss: 46.9431 - val_mae: 4.9420\n",
            "Epoch 71/100\n",
            "20/20 - 0s - 4ms/step - loss: 46.0166 - mae: 4.7904 - val_loss: 46.1212 - val_mae: 4.9027\n",
            "Epoch 72/100\n",
            "20/20 - 0s - 4ms/step - loss: 45.6423 - mae: 4.7636 - val_loss: 46.7817 - val_mae: 4.9472\n",
            "Epoch 73/100\n",
            "20/20 - 0s - 4ms/step - loss: 45.4232 - mae: 4.7476 - val_loss: 46.5703 - val_mae: 4.9350\n",
            "Epoch 74/100\n",
            "20/20 - 0s - 5ms/step - loss: 45.2445 - mae: 4.7364 - val_loss: 47.7219 - val_mae: 4.9907\n",
            "Epoch 75/100\n",
            "20/20 - 0s - 4ms/step - loss: 45.0485 - mae: 4.7271 - val_loss: 47.6148 - val_mae: 4.9861\n",
            "Epoch 76/100\n",
            "20/20 - 0s - 4ms/step - loss: 44.7980 - mae: 4.7123 - val_loss: 48.5783 - val_mae: 5.0243\n",
            "Epoch 77/100\n",
            "20/20 - 0s - 4ms/step - loss: 44.8229 - mae: 4.7226 - val_loss: 48.7906 - val_mae: 5.0415\n",
            "Epoch 78/100\n",
            "20/20 - 0s - 5ms/step - loss: 44.7300 - mae: 4.7030 - val_loss: 48.5930 - val_mae: 5.0322\n",
            "Epoch 79/100\n",
            "20/20 - 0s - 4ms/step - loss: 44.3667 - mae: 4.6937 - val_loss: 49.2290 - val_mae: 5.0690\n",
            "Epoch 80/100\n",
            "20/20 - 0s - 4ms/step - loss: 44.6566 - mae: 4.6976 - val_loss: 48.3963 - val_mae: 5.0131\n",
            "Epoch 81/100\n",
            "20/20 - 0s - 4ms/step - loss: 44.3759 - mae: 4.6896 - val_loss: 49.8646 - val_mae: 5.0805\n",
            "Epoch 82/100\n",
            "20/20 - 0s - 4ms/step - loss: 44.1411 - mae: 4.6842 - val_loss: 48.8717 - val_mae: 5.0330\n",
            "Epoch 83/100\n",
            "20/20 - 0s - 4ms/step - loss: 43.9119 - mae: 4.6654 - val_loss: 47.9644 - val_mae: 4.9956\n",
            "Epoch 84/100\n",
            "20/20 - 0s - 4ms/step - loss: 43.6396 - mae: 4.6540 - val_loss: 49.2310 - val_mae: 5.0696\n",
            "Epoch 85/100\n",
            "20/20 - 0s - 4ms/step - loss: 43.4613 - mae: 4.6413 - val_loss: 49.3186 - val_mae: 5.0701\n",
            "Epoch 86/100\n",
            "20/20 - 0s - 4ms/step - loss: 43.4459 - mae: 4.6442 - val_loss: 50.9363 - val_mae: 5.1400\n",
            "Epoch 87/100\n",
            "20/20 - 0s - 4ms/step - loss: 43.6315 - mae: 4.6536 - val_loss: 50.7752 - val_mae: 5.1372\n",
            "Epoch 88/100\n",
            "20/20 - 0s - 4ms/step - loss: 43.1084 - mae: 4.6318 - val_loss: 48.0885 - val_mae: 5.0333\n",
            "Epoch 89/100\n",
            "20/20 - 0s - 4ms/step - loss: 42.7893 - mae: 4.6022 - val_loss: 48.7966 - val_mae: 5.0674\n",
            "Epoch 90/100\n",
            "20/20 - 0s - 4ms/step - loss: 43.4613 - mae: 4.6276 - val_loss: 47.8607 - val_mae: 5.0057\n",
            "Epoch 91/100\n",
            "20/20 - 0s - 4ms/step - loss: 43.0673 - mae: 4.6387 - val_loss: 49.2887 - val_mae: 5.0936\n",
            "Epoch 92/100\n",
            "20/20 - 0s - 4ms/step - loss: 42.9624 - mae: 4.6124 - val_loss: 47.8429 - val_mae: 5.0119\n",
            "Epoch 93/100\n",
            "20/20 - 0s - 4ms/step - loss: 42.3778 - mae: 4.5857 - val_loss: 48.4779 - val_mae: 5.0643\n",
            "Epoch 94/100\n",
            "20/20 - 0s - 4ms/step - loss: 43.8583 - mae: 4.6600 - val_loss: 50.4762 - val_mae: 5.1530\n",
            "Epoch 95/100\n",
            "20/20 - 0s - 4ms/step - loss: 43.1019 - mae: 4.6167 - val_loss: 48.2318 - val_mae: 5.0402\n",
            "Epoch 96/100\n",
            "20/20 - 0s - 4ms/step - loss: 42.1921 - mae: 4.5802 - val_loss: 48.6469 - val_mae: 5.0625\n",
            "Epoch 97/100\n",
            "20/20 - 0s - 4ms/step - loss: 42.3348 - mae: 4.5737 - val_loss: 49.4846 - val_mae: 5.1193\n",
            "Epoch 98/100\n",
            "20/20 - 0s - 4ms/step - loss: 42.1634 - mae: 4.5683 - val_loss: 49.5527 - val_mae: 5.1300\n",
            "Epoch 99/100\n",
            "20/20 - 0s - 4ms/step - loss: 43.3569 - mae: 4.6301 - val_loss: 47.5363 - val_mae: 4.9878\n",
            "Epoch 100/100\n",
            "20/20 - 0s - 4ms/step - loss: 42.4505 - mae: 4.5988 - val_loss: 49.5182 - val_mae: 5.0974\n"
          ]
        }
      ],
      "source": [
        "history = model.fit(X_train, y_train, epochs=100, batch_size=32, validation_data=(X_test, y_test), verbose=2)"
      ]
    },
    {
      "cell_type": "code",
      "execution_count": 21,
      "metadata": {
        "colab": {
          "base_uri": "https://localhost:8080/"
        },
        "id": "GMQHFR8_DNVY",
        "outputId": "dbc17df4-65b6-44ec-a5b5-205786a8ff59"
      },
      "outputs": [
        {
          "name": "stdout",
          "output_type": "stream",
          "text": [
            "\u001b[1m5/5\u001b[0m \u001b[32m━━━━━━━━━━━━━━━━━━━━\u001b[0m\u001b[37m\u001b[0m \u001b[1m0s\u001b[0m 1ms/step - loss: 49.4514 - mae: 5.0081 \n",
            "Test Loss: [49.5181884765625, 5.097352027893066]\n"
          ]
        }
      ],
      "source": [
        "loss = model.evaluate(X_test, y_test)\n",
        "print(\"Test Loss:\", loss)"
      ]
    },
    {
      "cell_type": "code",
      "execution_count": 22,
      "metadata": {
        "colab": {
          "base_uri": "https://localhost:8080/",
          "height": 564
        },
        "id": "hfP_nGVMDX1k",
        "outputId": "85e3e0a7-f9b8-426f-de0e-310dc8e831e6"
      },
      "outputs": [
        {
          "data": {
            "image/png": "[encoded data removed]",
            "text/plain": [
              "<Figure size 1200x600 with 1 Axes>"
            ]
          },
          "metadata": {},
          "output_type": "display_data"
        }
      ],
      "source": [
        "plt.figure(figsize=(12, 6))\n",
        "plt.plot(history.history['loss'], label='Train Loss')\n",
        "plt.plot(history.history['val_loss'], label='Validation Loss')\n",
        "plt.title('Model Loss')\n",
        "plt.xlabel('Epoch')\n",
        "plt.ylabel('Loss')\n",
        "plt.legend(loc='upper right')\n",
        "plt.show()"
      ]
    },
    {
      "cell_type": "code",
      "execution_count": 23,
      "metadata": {
        "colab": {
          "base_uri": "https://localhost:8080/",
          "height": 564
        },
        "id": "jTn506QeDZl4",
        "outputId": "a7a5d7dc-6ffd-4ccf-8620-79c511af79fd"
      },
      "outputs": [
        {
          "data": {
            "image/png": "[encoded data removed]",
            "text/plain": [
              "<Figure size 1200x600 with 1 Axes>"
            ]
          },
          "metadata": {},
          "output_type": "display_data"
        }
      ],
      "source": [
        "plt.figure(figsize=(12, 6))\n",
        "plt.plot(history.history['mae'], label='Train MAE')\n",
        "plt.plot(history.history['val_mae'], label='Validation MAE')\n",
        "plt.title('Model Mean Absolute Error')\n",
        "plt.xlabel('Epoch')\n",
        "plt.ylabel('Mean Absolute Error')\n",
        "plt.legend(loc='upper right')\n",
        "plt.show()"
      ]
    },
    {
      "cell_type": "code",
      "execution_count": 24,
      "metadata": {
        "colab": {
          "base_uri": "https://localhost:8080/"
        },
        "id": "X0eQI7H-DbrW",
        "outputId": "95783344-64f4-4774-d98b-640f48b00a5b"
      },
      "outputs": [
        {
          "name": "stdout",
          "output_type": "stream",
          "text": [
            "\u001b[1m1/1\u001b[0m \u001b[32m━━━━━━━━━━━━━━━━━━━━\u001b[0m\u001b[37m\u001b[0m \u001b[1m0s\u001b[0m 206ms/step\n",
            "True Values:\n",
            "[23 35  7  8 21  9 19  8]\n",
            "Predicted Values:\n",
            "[[17.340975  38.203423  12.933522  16.955807  26.398874   3.8799956\n",
            "  16.391125   7.9177494]]\n"
          ]
        }
      ],
      "source": [
        "\n",
        "# testeo aleatorio\n",
        "sample_idx = 3\n",
        "\n",
        "sample_X = X_test[sample_idx]\n",
        "sample_y_true = y_test[sample_idx]\n",
        "\n",
        "sample_X = sample_X.reshape(1, sample_X.shape[0], sample_X.shape[1])\n",
        "sample_y_pred = model.predict(sample_X)\n",
        "\n",
        "print(\"True Values:\")\n",
        "print(sample_y_true)\n",
        "print(\"Predicted Values:\")\n",
        "print(sample_y_pred)"
      ]
    },
    {
      "cell_type": "markdown",
      "metadata": {
        "id": "A1X3ErVWEWAw"
      },
      "source": [
        "testing manual input"
      ]
    },
    {
      "cell_type": "code",
      "execution_count": 30,
      "metadata": {
        "id": "nCsilR44De_0"
      },
      "outputs": [
        {
          "ename": "",
          "evalue": "",
          "output_type": "error",
          "traceback": [
            "\u001b[1;31mThe Kernel crashed while executing code in the current cell or a previous cell. \n",
            "\u001b[1;31mPlease review the code in the cell(s) to identify a possible cause of the failure. \n",
            "\u001b[1;31mClick <a href='https://aka.ms/vscodeJupyterKernelCrash'>here</a> for more info. \n",
            "\u001b[1;31mView Jupyter <a href='command:jupyter.viewOutput'>log</a> for further details."
          ]
        }
      ],
      "source": [
        "manual_input = [[0, 0, 30],\n",
        "              [0, 0, 45],\n",
        "              [0, 1, 0],\n",
        "              [ 0, 1, 15],\n",
        "              [0, 1, 30]]\n",
        "input_data = np.array(manual_input)"
      ]
    },
    {
      "cell_type": "code",
      "execution_count": 26,
      "metadata": {
        "colab": {
          "base_uri": "https://localhost:8080/"
        },
        "id": "yi9qpyFnDrjO",
        "outputId": "ea41a287-0b41-4f4b-c13c-621c41bfc4e0"
      },
      "outputs": [
        {
          "name": "stdout",
          "output_type": "stream",
          "text": [
            "\u001b[1m1/1\u001b[0m \u001b[32m━━━━━━━━━━━━━━━━━━━━\u001b[0m\u001b[37m\u001b[0m \u001b[1m0s\u001b[0m 210ms/step\n",
            "Predicted traffic counts: [[ 7.0096707 16.705921   5.019726   8.153822  14.225456   4.6215105\n",
            "   9.533791   5.63005  ]]\n"
          ]
        }
      ],
      "source": [
        "manual_input_sequence = input_data.reshape((1, seq_length, 3))\n",
        "predicted_traffic_counts = model.predict(manual_input_sequence)\n",
        "\n",
        "print(\"Predicted traffic counts:\", predicted_traffic_counts)"
      ]
    },
    {
      "cell_type": "markdown",
      "metadata": {
        "id": "fg4xKaAIEbsY"
      },
      "source": [
        "saving keras model ---- predicting from saved model."
      ]
    },
    {
      "cell_type": "code",
      "execution_count": 27,
      "metadata": {
        "id": "l8FvbYjgDtO0"
      },
      "outputs": [],
      "source": [
        "model.save(\"2-intersection.keras\")"
      ]
    },
    {
      "cell_type": "code",
      "execution_count": 28,
      "metadata": {
        "id": "Dd5qNmaTDvsG"
      },
      "outputs": [],
      "source": [
        "loaded_model = keras.models.load_model(\"2-intersection.keras\")"
      ]
    },
    {
      "cell_type": "code",
      "execution_count": 29,
      "metadata": {
        "colab": {
          "base_uri": "https://localhost:8080/"
        },
        "id": "OwL1xHTXDxbf",
        "outputId": "c713335f-2c7f-4a65-fbb1-d462ec8c2eca"
      },
      "outputs": [
        {
          "name": "stdout",
          "output_type": "stream",
          "text": [
            "\u001b[1m1/1\u001b[0m \u001b[32m━━━━━━━━━━━━━━━━━━━━\u001b[0m\u001b[37m\u001b[0m \u001b[1m0s\u001b[0m 216ms/step\n"
          ]
        },
        {
          "data": {
            "text/plain": [
              "array([[ 7.0096707, 16.705921 ,  5.019726 ,  8.153822 , 14.225456 ,\n",
              "         4.6215105,  9.533791 ,  5.63005  ]], dtype=float32)"
            ]
          },
          "execution_count": 29,
          "metadata": {},
          "output_type": "execute_result"
        }
      ],
      "source": [
        "loaded_model.predict(manual_input_sequence)"
      ]
    },
    {
      "cell_type": "code",
      "execution_count": null,
      "metadata": {
        "id": "wlVAvcPgDy8u"
      },
      "outputs": [],
      "source": []
    }
  ],
  "metadata": {
    "colab": {
      "provenance": []
    },
    "kernelspec": {
      "display_name": "Python 3",
      "name": "python3"
    },
    "language_info": {
      "codemirror_mode": {
        "name": "ipython",
        "version": 3
      },
      "file_extension": ".py",
      "mimetype": "text/x-python",
      "name": "python",
      "nbconvert_exporter": "python",
      "pygments_lexer": "ipython3",
      "version": "3.12.3"
    }
  },
  "nbformat": 4,
  "nbformat_minor": 0
}
